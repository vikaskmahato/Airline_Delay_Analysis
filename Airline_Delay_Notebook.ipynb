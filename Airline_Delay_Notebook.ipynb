{
 "cells": [
  {
   "cell_type": "code",
   "execution_count": 0,
   "metadata": {
    "application/vnd.databricks.v1+cell": {
     "cellMetadata": {
      "byteLimit": 2048000,
      "rowLimit": 10000
     },
     "inputWidgets": {},
     "nuid": "290fbcef-3a73-4d70-9589-276bb37c8476",
     "showTitle": false,
     "title": ""
    }
   },
   "outputs": [],
   "source": [
    "from pyspark.sql import SparkSession"
   ]
  },
  {
   "cell_type": "code",
   "execution_count": 0,
   "metadata": {
    "application/vnd.databricks.v1+cell": {
     "cellMetadata": {
      "byteLimit": 2048000,
      "rowLimit": 10000
     },
     "inputWidgets": {},
     "nuid": "00150a65-b821-4e4d-9633-cb1abf767981",
     "showTitle": false,
     "title": ""
    }
   },
   "outputs": [],
   "source": [
    "from pyspark.sql.functions import col, mean, substring,count, max, mode, avg, udf\n",
    "from pyspark.sql.types import StringType, FloatType"
   ]
  },
  {
   "cell_type": "code",
   "execution_count": 0,
   "metadata": {
    "application/vnd.databricks.v1+cell": {
     "cellMetadata": {
      "byteLimit": 2048000,
      "rowLimit": 10000
     },
     "inputWidgets": {},
     "nuid": "f4aec9d0-9bbe-4410-ab4d-1fff1f58b306",
     "showTitle": false,
     "title": ""
    }
   },
   "outputs": [
    {
     "output_type": "stream",
     "name": "stdout",
     "output_type": "stream",
     "text": [
      "Out[4]: [Row(FL_DATE=datetime.date(2019, 1, 1), OP_UNIQUE_CARRIER='9E', OP_CARRIER_FL_NUM=3280, ORIGIN='GNV', DEST='ATL', DEP_TIME=601, DEP_DELAY=1.0, TAXI_OUT=22.0, WHEELS_OFF=623, WHEELS_ON=714, TAXI_IN=8.0, ARR_TIME=722, ARR_DELAY=-1.0, AIR_TIME=51.0, DISTANCE=300.0, CARRIER_DELAY=None, WEATHER_DELAY=None, NAS_DELAY=None, SECURITY_DELAY=None, LATE_AIRCRAFT_DELAY=None, _c20=None),\n Row(FL_DATE=datetime.date(2019, 1, 1), OP_UNIQUE_CARRIER='9E', OP_CARRIER_FL_NUM=3281, ORIGIN='MSP', DEST='CVG', DEP_TIME=1359, DEP_DELAY=-5.0, TAXI_OUT=15.0, WHEELS_OFF=1414, WHEELS_ON=1629, TAXI_IN=4.0, ARR_TIME=1633, ARR_DELAY=-36.0, AIR_TIME=75.0, DISTANCE=596.0, CARRIER_DELAY=None, WEATHER_DELAY=None, NAS_DELAY=None, SECURITY_DELAY=None, LATE_AIRCRAFT_DELAY=None, _c20=None),\n Row(FL_DATE=datetime.date(2019, 1, 1), OP_UNIQUE_CARRIER='9E', OP_CARRIER_FL_NUM=3282, ORIGIN='DTW', DEST='CVG', DEP_TIME=1215, DEP_DELAY=-5.0, TAXI_OUT=18.0, WHEELS_OFF=1233, WHEELS_ON=1323, TAXI_IN=6.0, ARR_TIME=1329, ARR_DELAY=-16.0, AIR_TIME=50.0, DISTANCE=229.0, CARRIER_DELAY=None, WEATHER_DELAY=None, NAS_DELAY=None, SECURITY_DELAY=None, LATE_AIRCRAFT_DELAY=None, _c20=None),\n Row(FL_DATE=datetime.date(2019, 1, 1), OP_UNIQUE_CARRIER='9E', OP_CARRIER_FL_NUM=3283, ORIGIN='TLH', DEST='ATL', DEP_TIME=1521, DEP_DELAY=-6.0, TAXI_OUT=14.0, WHEELS_OFF=1535, WHEELS_ON=1618, TAXI_IN=7.0, ARR_TIME=1625, ARR_DELAY=-14.0, AIR_TIME=43.0, DISTANCE=223.0, CARRIER_DELAY=None, WEATHER_DELAY=None, NAS_DELAY=None, SECURITY_DELAY=None, LATE_AIRCRAFT_DELAY=None, _c20=None),\n Row(FL_DATE=datetime.date(2019, 1, 1), OP_UNIQUE_CARRIER='9E', OP_CARRIER_FL_NUM=3284, ORIGIN='ATL', DEST='FSM', DEP_TIME=1847, DEP_DELAY=-15.0, TAXI_OUT=18.0, WHEELS_OFF=1905, WHEELS_ON=1935, TAXI_IN=5.0, ARR_TIME=1940, ARR_DELAY=-25.0, AIR_TIME=90.0, DISTANCE=579.0, CARRIER_DELAY=None, WEATHER_DELAY=None, NAS_DELAY=None, SECURITY_DELAY=None, LATE_AIRCRAFT_DELAY=None, _c20=None)]"
     ]
    }
   ],
   "source": [
    "spark = SparkSession.builder.appName(\"Airline_Delay_Project\").getOrCreate()\n",
    "file_path = \"/FileStore/tables/2019-3.csv\"\n",
    "df = spark.read.format(\"csv\") \\\n",
    "    .option(\"header\", \"true\") \\\n",
    "    .option(\"inferSchema\", \"true\") \\\n",
    "    .option(\"delimiter\", \",\") \\\n",
    "    .option(\"quote\", '\"') \\\n",
    "    .option(\"escape\", '\\\\') \\\n",
    "    .load(file_path)\n",
    "\n",
    "df.head(5)"
   ]
  },
  {
   "cell_type": "code",
   "execution_count": 0,
   "metadata": {
    "application/vnd.databricks.v1+cell": {
     "cellMetadata": {
      "byteLimit": 2048000,
      "rowLimit": 10000
     },
     "inputWidgets": {},
     "nuid": "6ca49983-5c75-42b9-b2d5-c68ce006d4e6",
     "showTitle": false,
     "title": ""
    }
   },
   "outputs": [],
   "source": [
    "df.write.saveAsTable(\"Airline_Data\")"
   ]
  },
  {
   "cell_type": "code",
   "execution_count": 0,
   "metadata": {
    "application/vnd.databricks.v1+cell": {
     "cellMetadata": {
      "byteLimit": 2048000,
      "rowLimit": 10000
     },
     "inputWidgets": {},
     "nuid": "7597012e-f378-4264-9004-6ebeabea6f51",
     "showTitle": false,
     "title": ""
    }
   },
   "outputs": [
    {
     "output_type": "stream",
     "name": "stdout",
     "output_type": "stream",
     "text": [
      "['DEP_TIME', 'DEP_DELAY', 'TAXI_OUT', 'WHEELS_OFF', 'WHEELS_ON', 'TAXI_IN', 'ARR_TIME', 'ARR_DELAY', 'AIR_TIME', 'CARRIER_DELAY', 'WEATHER_DELAY', 'NAS_DELAY', 'SECURITY_DELAY', 'LATE_AIRCRAFT_DELAY']\n"
     ]
    }
   ],
   "source": [
    "df = df.drop(\"_c20\")\n",
    "col_with_nulls = []\n",
    "for column in df.columns:\n",
    "    num = df.filter(col(column).isNull()).count()\n",
    "    if num!=0:\n",
    "        col_with_nulls.append(column)\n",
    "print(col_with_nulls)\n"
   ]
  },
  {
   "cell_type": "code",
   "execution_count": 0,
   "metadata": {
    "application/vnd.databricks.v1+cell": {
     "cellMetadata": {
      "byteLimit": 2048000,
      "rowLimit": 10000
     },
     "inputWidgets": {},
     "nuid": "2fe28e98-9ec5-49c4-a402-771efd1afd0e",
     "showTitle": false,
     "title": ""
    }
   },
   "outputs": [],
   "source": [
    "df_null_ops = df\n",
    "for i in col_with_nulls:\n",
    "    datatype = df_null_ops.select(i).dtypes[0][1]\n",
    "    if datatype.lower() == \"string\":\n",
    "        mode_val = df_null_ops.select(mode(i)).head()[0]\n",
    "        df_null_ops = df_null_ops.fillna({i:mode_val})\n",
    "        print(f\"{i}: {mode_val}\")\n",
    "    else:\n",
    "        mean_val = df_null_ops.select(mean(i)).head()[0]\n",
    "        df_null_ops = df_null_ops.fillna({i:mean_val})\n",
    "        print(f\"{i}: {mean_val}\")\n"
   ]
  },
  {
   "cell_type": "code",
   "execution_count": 0,
   "metadata": {
    "application/vnd.databricks.v1+cell": {
     "cellMetadata": {
      "byteLimit": 2048000,
      "rowLimit": 10000
     },
     "inputWidgets": {},
     "nuid": "69b2cfd3-08c8-4a7e-8e3c-05fda62c0462",
     "showTitle": false,
     "title": ""
    }
   },
   "outputs": [
    {
     "output_type": "stream",
     "name": "stdout",
     "output_type": "stream",
     "text": [
      "+-----------------+------------------+\n|op_unique_carrier|     Avg_Dep_delay|\n+-----------------+------------------+\n|               B6|17.745473360997547|\n|               EV| 17.21400657286479|\n|               F9|14.577009288343467|\n|               YV| 13.80316319064953|\n|               UA|13.004563709088917|\n|               OO|12.564053392669365|\n|               AA|12.114915337571487|\n|               NK|10.940950394756443|\n|               OH|10.704733524922498|\n|               9E|10.245764586889184|\n|               WN|10.178762481230244|\n|               G4|10.122909563240786|\n|               MQ| 9.272981408689438|\n|               YX| 8.544063599958992|\n|               DL| 8.155754169633253|\n|               AS|5.0346367947220125|\n|               HA|1.2963997517070143|\n+-----------------+------------------+\n\n"
     ]
    }
   ],
   "source": [
    "# df.select(avg(\"dep_delay\")).head()[0]\n",
    "# df.groupBy(col(\"origin\")).count().show()\n",
    "# df.groupBy(col(\"op_unique_carrier\")).count().show()\n",
    "# df.groupBy(col(\"origin\")).agg(avg(\"dep_delay\")).show()\n",
    "# df.groupBy(col(\"op_unique_carrier\")).agg(avg(\"dep_delay\").alias(\"Avg_Dep_delay\")).orderBy(col(\"Avg_Dep_delay\").desc()).show()\n",
    "# df.groupBy(col(\"origin\")).agg(avg(\"distance\")).show()\n"
   ]
  },
  {
   "cell_type": "code",
   "execution_count": 0,
   "metadata": {
    "application/vnd.databricks.v1+cell": {
     "cellMetadata": {
      "byteLimit": 2048000,
      "rowLimit": 10000
     },
     "inputWidgets": {},
     "nuid": "2c06cab1-e49d-46c3-b7b3-9edaf862d951",
     "showTitle": false,
     "title": ""
    }
   },
   "outputs": [
    {
     "output_type": "stream",
     "name": "stdout",
     "output_type": "stream",
     "text": [
      "Out[45]: [Row(Flight_Duration=80.0),\n Row(Flight_Duration=159.0),\n Row(Flight_Duration=79.0)]"
     ]
    }
   ],
   "source": [
    "def localtime_to_minutes(hhmm):\n",
    "    hours = hhmm // 100\n",
    "    minutes = hhmm % 100\n",
    "    return hours * 60 + minutes\n",
    "\n",
    "def flight_duration(arr_time, dep_time, dep_delay):\n",
    "    arr_minutes = localtime_to_minutes(arr_time)\n",
    "    dep_minutes = localtime_to_minutes(dep_time)\n",
    "    duration = arr_minutes-(dep_minutes+dep_delay)\n",
    "    # Handle negative durations (e.g., crossing midnight)\n",
    "    if duration < 0:\n",
    "        duration += 24 * 60  # Add 24 hours in minutes\n",
    "    return duration\n",
    "\n",
    "fl_dur = udf(flight_duration, FloatType())\n",
    "df = df.withColumn(\"Flight_Duration\", fl_dur(col(\"arr_time\"), col(\"dep_time\"), col(\"dep_delay\")))\n",
    "\n",
    "df.select(col(\"Flight_Duration\")).head(3)"
   ]
  }
 ],
 "metadata": {
  "application/vnd.databricks.v1+notebook": {
   "dashboards": [],
   "environmentMetadata": null,
   "language": "python",
   "notebookMetadata": {
    "pythonIndentUnit": 4
   },
   "notebookName": "Untitled Notebook 2024-05-27 19:33:39",
   "widgets": {}
  }
 },
 "nbformat": 4,
 "nbformat_minor": 0
}
